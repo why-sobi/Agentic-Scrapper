{
 "cells": [
  {
   "cell_type": "markdown",
   "id": "e895bc3d",
   "metadata": {},
   "source": [
    "## SCRAPPY\n",
    "- Using Langchain build an Agentic AI\n",
    "- Scrapes top e-commerce websites for desired products"
   ]
  },
  {
   "cell_type": "code",
   "execution_count": 1,
   "id": "9d5b5e40",
   "metadata": {},
   "outputs": [],
   "source": [
    "from langchain_google_genai import ChatGoogleGenerativeAI\n",
    "\n",
    "from langchain.tools import Tool\n",
    "from langchain.agents import load_tools\n",
    "from langchain.agents import initialize_agent\n",
    "from langchain.agents import AgentType\n",
    "\n",
    "from langchain.tools import StructuredTool\n",
    "\n",
    "from pydantic import BaseModel\n",
    "import ast # For structured output (Convert string representation of list to Python list)\n",
    "\n",
    "# from langchain.prompts import PromptTemplate\n",
    "# from langchain.chains.llm import LLMChain\n",
    "# from langchain_core.prompts import ChatPromptTemplate\n",
    "# from langchain.chains import ConversationalRetrievalChain # this allows query with memory\n",
    "\n",
    "from dotenv import load_dotenv\n",
    "import os\n"
   ]
  },
  {
   "cell_type": "code",
   "execution_count": 2,
   "id": "7ad3b242",
   "metadata": {},
   "outputs": [],
   "source": [
    "load_dotenv()\n",
    "api_key = os.getenv(\"GOOGLE_API_KEY_2\")"
   ]
  },
  {
   "cell_type": "code",
   "execution_count": 3,
   "id": "1c369d7d",
   "metadata": {},
   "outputs": [],
   "source": [
    "llm = ChatGoogleGenerativeAI(\n",
    "    model=\"gemini-1.5-flash\",\n",
    "    google_api_key=api_key,\n",
    "    temperature=0.1)\n"
   ]
  },
  {
   "cell_type": "code",
   "execution_count": 4,
   "id": "42cddf2d",
   "metadata": {},
   "outputs": [],
   "source": [
    "from utility.outputFormat import FinalResult # this is a custom schema for saving product listings\n",
    "from utility.save import SaveResult"
   ]
  },
  {
   "cell_type": "markdown",
   "id": "8e607ab4",
   "metadata": {},
   "source": [
    "- ```IMPORT CUSTOM TOOLS HERE AS FUNCTIONS```"
   ]
  },
  {
   "cell_type": "code",
   "execution_count": null,
   "id": "e992484f",
   "metadata": {},
   "outputs": [],
   "source": [
    "from scrappers.olx_scrapper import OlxScrapper\n",
    "from scrappers.daraz import DarazScrapper"
   ]
  },
  {
   "cell_type": "markdown",
   "id": "5aff18b3",
   "metadata": {},
   "source": [
    "- ```Setup of the Scrapper Agent```"
   ]
  },
  {
   "cell_type": "code",
   "execution_count": 6,
   "id": "32b40d39",
   "metadata": {},
   "outputs": [],
   "source": [
    "systemPrompt = \"\"\"You are a helpful agent that scrapes listings from various platforms based on user queries. \n",
    "You will use the tools provided to gather information and return it in a structured format without any additional text.\n",
    "\n",
    "User Query: {query}\"\"\"\n",
    "\n",
    "generic_scraping_description = \"\"\"A tool to scrape {name} for listings based on a query. \n",
    "It returns a list of dictionary with keys 'name', 'URL', 'price', 'rating', 'description'.\"\"\"\n",
    "\n",
    "save_scraping_description = \"\"\"Saves the scraped listings to a local CSV file. Expects a list of dictionaries along with a file name.\"\"\""
   ]
  },
  {
   "cell_type": "markdown",
   "id": "91a34380",
   "metadata": {},
   "source": [
    "- `Scrapper Tools`"
   ]
  },
  {
   "cell_type": "code",
   "execution_count": 7,
   "id": "d1a653c0",
   "metadata": {},
   "outputs": [],
   "source": [
    "\n",
    "OlxScrapperTool = Tool(\n",
    "    name=\"olx_scrapper\",\n",
    "    func=OlxScrapper,\n",
    "    description=generic_scraping_description.format(name=\"OLX\"),\n",
    ")\n",
    "\n",
    "DarazScrapperTool = Tool(\n",
    "    name=\"daraz_scrapper\",\n",
    "    func=DarazScrapper,\n",
    "    description=generic_scraping_description.format(name=\"Daraz\")\n",
    ")"
   ]
  },
  {
   "cell_type": "markdown",
   "id": "dc05e88b",
   "metadata": {},
   "source": [
    "- `Utility Tools`"
   ]
  },
  {
   "cell_type": "code",
   "execution_count": 8,
   "id": "c34af262",
   "metadata": {},
   "outputs": [],
   "source": [
    "# SaveScrapingTool = StructuredTool.from_function(\n",
    "#     name=\"save_scraping\",\n",
    "#     func=SaveResult,\n",
    "#     description=save_scraping_description,\n",
    "#     # args_schema=SaveResultParams\n",
    "# )"
   ]
  },
  {
   "cell_type": "code",
   "execution_count": 9,
   "id": "7db5914f",
   "metadata": {},
   "outputs": [],
   "source": [
    "tools = load_tools([\"llm-math\"], llm=llm)\n",
    "\n",
    "tools.extend([OlxScrapperTool, DarazScrapperTool]) # as we add more scrappers, we can extend this list\n",
    "# tools.extend([SaveScrapingTool]) # as we add more utility tools, we can extend this list"
   ]
  },
  {
   "cell_type": "markdown",
   "id": "1ac3ff8e",
   "metadata": {},
   "source": [
    "- ```Function and Usage of Scrapper Agent```"
   ]
  },
  {
   "cell_type": "code",
   "execution_count": null,
   "id": "92d857d1",
   "metadata": {},
   "outputs": [],
   "source": [
    "def ScrapeListings(query: str) -> FinalResult:\n",
    "    \"\"\"\n",
    "    Scrape listings from various platforms based on the query.\n",
    "    \n",
    "    Args:\n",
    "        query (str): The search query to use for scraping.\n",
    "        \n",
    "    Returns:\n",
    "        list: A list of dictionaries containing the scraped data.\n",
    "    \"\"\"\n",
    "    \n",
    "    query = systemPrompt.format(query=query)\n",
    "    \n",
    "    agent = initialize_agent(\n",
    "        tools=tools,\n",
    "        llm=llm,\n",
    "        agent=AgentType.STRUCTURED_CHAT_ZERO_SHOT_REACT_DESCRIPTION,\n",
    "        verbose=True\n",
    "    )\n",
    "    # print(type(agent.agent))\n",
    "    \n",
    "    response = agent.invoke(query)\n",
    "    return ast.literal_eval(response['output']) # Convert the string representation of the list back to a Python list"
   ]
  },
  {
   "cell_type": "markdown",
   "id": "edec0f27",
   "metadata": {},
   "source": [
    "## NOTE  \n",
    "- Right now search is only done based on the product, it does not support any sort of filters whatsoever "
   ]
  },
  {
   "cell_type": "code",
   "execution_count": null,
   "id": "9506c7b1",
   "metadata": {},
   "outputs": [
    {
     "name": "stdout",
     "output_type": "stream",
     "text": [
      "Printed here <coroutine object Chain.arun at 0x00000287BBE9D300>\n"
     ]
    },
    {
     "ename": "TypeError",
     "evalue": "'coroutine' object is not subscriptable",
     "output_type": "error",
     "traceback": [
      "\u001b[31m---------------------------------------------------------------------------\u001b[39m",
      "\u001b[31mTypeError\u001b[39m                                 Traceback (most recent call last)",
      "\u001b[36mCell\u001b[39m\u001b[36m \u001b[39m\u001b[32mIn[15]\u001b[39m\u001b[32m, line 1\u001b[39m\n\u001b[32m----> \u001b[39m\u001b[32m1\u001b[39m SaveResult(\u001b[38;5;28;01mawait\u001b[39;00m ScrapeListings(\u001b[33m\"\u001b[39m\u001b[33mGet listing for lcd screens from olx\u001b[39m\u001b[33m\"\u001b[39m), filename=\u001b[33m\"\u001b[39m\u001b[33mlcd_screen.csv\u001b[39m\u001b[33m\"\u001b[39m)\n",
      "\u001b[36mCell\u001b[39m\u001b[36m \u001b[39m\u001b[32mIn[14]\u001b[39m\u001b[32m, line 24\u001b[39m, in \u001b[36mScrapeListings\u001b[39m\u001b[34m(query)\u001b[39m\n\u001b[32m     22\u001b[39m response = agent.arun(query)\n\u001b[32m     23\u001b[39m \u001b[38;5;28mprint\u001b[39m(\u001b[33m\"\u001b[39m\u001b[33mPrinted here\u001b[39m\u001b[33m\"\u001b[39m,response)\n\u001b[32m---> \u001b[39m\u001b[32m24\u001b[39m \u001b[38;5;28mprint\u001b[39m(\u001b[33m\"\u001b[39m\u001b[33mPrinted here\u001b[39m\u001b[33m\"\u001b[39m,\u001b[43mresponse\u001b[49m\u001b[43m[\u001b[49m\u001b[33;43m'\u001b[39;49m\u001b[33;43moutput\u001b[39;49m\u001b[33;43m'\u001b[39;49m\u001b[43m]\u001b[49m)\n\u001b[32m     25\u001b[39m \u001b[38;5;28;01mreturn\u001b[39;00m ast.literal_eval(response[\u001b[33m'\u001b[39m\u001b[33moutput\u001b[39m\u001b[33m'\u001b[39m])\n",
      "\u001b[31mTypeError\u001b[39m: 'coroutine' object is not subscriptable"
     ]
    }
   ],
   "source": [
    "SaveResult(ScrapeListings(\"Get listing for lcd screens from olx\"), filename=\"lcd_screen.csv\")"
   ]
  },
  {
   "cell_type": "code",
   "execution_count": null,
   "id": "78318164",
   "metadata": {},
   "outputs": [],
   "source": []
  }
 ],
 "metadata": {
  "kernelspec": {
   "display_name": "Agentic-Scrapper",
   "language": "python",
   "name": "python3"
  },
  "language_info": {
   "codemirror_mode": {
    "name": "ipython",
    "version": 3
   },
   "file_extension": ".py",
   "mimetype": "text/x-python",
   "name": "python",
   "nbconvert_exporter": "python",
   "pygments_lexer": "ipython3",
   "version": "3.12.10"
  }
 },
 "nbformat": 4,
 "nbformat_minor": 5
}
