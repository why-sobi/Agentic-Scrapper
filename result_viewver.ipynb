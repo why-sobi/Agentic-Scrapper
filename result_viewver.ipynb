{
 "cells": [
  {
   "cell_type": "code",
   "execution_count": 2,
   "id": "f64ff3dd",
   "metadata": {},
   "outputs": [],
   "source": [
    "import pandas as pd"
   ]
  },
  {
   "cell_type": "markdown",
   "id": "b23803c6",
   "metadata": {},
   "source": [
    "### File which you want to view"
   ]
  },
  {
   "cell_type": "code",
   "execution_count": 3,
   "id": "e9a1ec14",
   "metadata": {},
   "outputs": [],
   "source": [
    "file_name = \"gaming_lcd.csv\""
   ]
  },
  {
   "cell_type": "code",
   "execution_count": 4,
   "id": "d86631e8",
   "metadata": {},
   "outputs": [],
   "source": [
    "df = pd.read_csv(file_name)"
   ]
  },
  {
   "cell_type": "code",
   "execution_count": 5,
   "id": "865f7ac5",
   "metadata": {},
   "outputs": [
    {
     "data": {
      "text/html": [
       "<div>\n",
       "<style scoped>\n",
       "    .dataframe tbody tr th:only-of-type {\n",
       "        vertical-align: middle;\n",
       "    }\n",
       "\n",
       "    .dataframe tbody tr th {\n",
       "        vertical-align: top;\n",
       "    }\n",
       "\n",
       "    .dataframe thead th {\n",
       "        text-align: right;\n",
       "    }\n",
       "</style>\n",
       "<table border=\"1\" class=\"dataframe\">\n",
       "  <thead>\n",
       "    <tr style=\"text-align: right;\">\n",
       "      <th></th>\n",
       "      <th>name</th>\n",
       "      <th>url</th>\n",
       "      <th>price</th>\n",
       "      <th>rating</th>\n",
       "      <th>description</th>\n",
       "    </tr>\n",
       "  </thead>\n",
       "  <tbody>\n",
       "    <tr>\n",
       "      <th>0</th>\n",
       "      <td>Dell gaming lcd</td>\n",
       "      <td>NaN</td>\n",
       "      <td>Rs 33,000</td>\n",
       "      <td>NaN</td>\n",
       "      <td>Dell lcd w22core Gaming lcd with touch buttons...</td>\n",
       "    </tr>\n",
       "    <tr>\n",
       "      <th>1</th>\n",
       "      <td>22 inch Gaming Monitor |24 inches monitor 27-3...</td>\n",
       "      <td>NaN</td>\n",
       "      <td>Rs 7,999</td>\n",
       "      <td>NaN</td>\n",
       "      <td>0/3/2/3/7/7/5/7/7/3/9 0/3/2/3/7/7/5/7/7/3/9 KI...</td>\n",
       "    </tr>\n",
       "    <tr>\n",
       "      <th>2</th>\n",
       "      <td>BenQ ZOWIE XL2411z 24 inch 144Hz 1ms Esports G...</td>\n",
       "      <td>NaN</td>\n",
       "      <td>Rs 30,500</td>\n",
       "      <td>NaN</td>\n",
       "      <td>Only hand to hand deal available Interested pe...</td>\n",
       "    </tr>\n",
       "    <tr>\n",
       "      <th>3</th>\n",
       "      <td>Gaming LCD, 24inch, 165Hz</td>\n",
       "      <td>NaN</td>\n",
       "      <td>Rs 29,000</td>\n",
       "      <td>NaN</td>\n",
       "      <td>All the description is already in the pictures...</td>\n",
       "    </tr>\n",
       "    <tr>\n",
       "      <th>4</th>\n",
       "      <td>Gaming PC and borderless LCD</td>\n",
       "      <td>NaN</td>\n",
       "      <td>Rs 1.45 Lac</td>\n",
       "      <td>NaN</td>\n",
       "      <td>PC Specs Chipset: AMD Ryzen 5 5500 Board: Giga...</td>\n",
       "    </tr>\n",
       "    <tr>\n",
       "      <th>5</th>\n",
       "      <td>LG 23inch ultra slim touch botton Ful-HD led m...</td>\n",
       "      <td>NaN</td>\n",
       "      <td>Rs 13,600</td>\n",
       "      <td>NaN</td>\n",
       "      <td>U can use it for cameras and other display pur...</td>\n",
       "    </tr>\n",
       "    <tr>\n",
       "      <th>6</th>\n",
       "      <td>led tv 43 inch samsung android smart 4k cctv g...</td>\n",
       "      <td>NaN</td>\n",
       "      <td>Rs 25,500</td>\n",
       "      <td>NaN</td>\n",
       "      <td>( Welecome To AYYAN TRADERS) (2025 models Led ...</td>\n",
       "    </tr>\n",
       "    <tr>\n",
       "      <th>7</th>\n",
       "      <td>GAMING LCD 24 INCH</td>\n",
       "      <td>NaN</td>\n",
       "      <td>Rs 10,000</td>\n",
       "      <td>NaN</td>\n",
       "      <td>COMPANY DELL LCD TYPE IPS 24 INCH DP OR VGI PO...</td>\n",
       "    </tr>\n",
       "    <tr>\n",
       "      <th>8</th>\n",
       "      <td>aoc 165hz gaming LCD</td>\n",
       "      <td>NaN</td>\n",
       "      <td>Rs 26,000</td>\n",
       "      <td>NaN</td>\n",
       "      <td>want to sell aoc 165hz gaming LCD dead pixel o...</td>\n",
       "    </tr>\n",
       "    <tr>\n",
       "      <th>9</th>\n",
       "      <td>Mi G 24i Gaming Lcd Monitor 180hz</td>\n",
       "      <td>NaN</td>\n",
       "      <td>Rs 31,000</td>\n",
       "      <td>NaN</td>\n",
       "      <td>Xiomi Mi G24i 180hz gaming monitor. purchased ...</td>\n",
       "    </tr>\n",
       "  </tbody>\n",
       "</table>\n",
       "</div>"
      ],
      "text/plain": [
       "                                                name  url        price  \\\n",
       "0                                    Dell gaming lcd  NaN    Rs 33,000   \n",
       "1  22 inch Gaming Monitor |24 inches monitor 27-3...  NaN     Rs 7,999   \n",
       "2  BenQ ZOWIE XL2411z 24 inch 144Hz 1ms Esports G...  NaN    Rs 30,500   \n",
       "3                          Gaming LCD, 24inch, 165Hz  NaN    Rs 29,000   \n",
       "4                       Gaming PC and borderless LCD  NaN  Rs 1.45 Lac   \n",
       "5  LG 23inch ultra slim touch botton Ful-HD led m...  NaN    Rs 13,600   \n",
       "6  led tv 43 inch samsung android smart 4k cctv g...  NaN    Rs 25,500   \n",
       "7                                 GAMING LCD 24 INCH  NaN    Rs 10,000   \n",
       "8                               aoc 165hz gaming LCD  NaN    Rs 26,000   \n",
       "9                  Mi G 24i Gaming Lcd Monitor 180hz  NaN    Rs 31,000   \n",
       "\n",
       "   rating                                        description  \n",
       "0     NaN  Dell lcd w22core Gaming lcd with touch buttons...  \n",
       "1     NaN  0/3/2/3/7/7/5/7/7/3/9 0/3/2/3/7/7/5/7/7/3/9 KI...  \n",
       "2     NaN  Only hand to hand deal available Interested pe...  \n",
       "3     NaN  All the description is already in the pictures...  \n",
       "4     NaN  PC Specs Chipset: AMD Ryzen 5 5500 Board: Giga...  \n",
       "5     NaN  U can use it for cameras and other display pur...  \n",
       "6     NaN  ( Welecome To AYYAN TRADERS) (2025 models Led ...  \n",
       "7     NaN  COMPANY DELL LCD TYPE IPS 24 INCH DP OR VGI PO...  \n",
       "8     NaN  want to sell aoc 165hz gaming LCD dead pixel o...  \n",
       "9     NaN  Xiomi Mi G24i 180hz gaming monitor. purchased ...  "
      ]
     },
     "metadata": {},
     "output_type": "display_data"
    }
   ],
   "source": [
    "display(df)"
   ]
  },
  {
   "cell_type": "code",
   "execution_count": null,
   "id": "5a3ab78b",
   "metadata": {},
   "outputs": [],
   "source": []
  }
 ],
 "metadata": {
  "kernelspec": {
   "display_name": "Agentic-Scrapper",
   "language": "python",
   "name": "python3"
  },
  "language_info": {
   "codemirror_mode": {
    "name": "ipython",
    "version": 3
   },
   "file_extension": ".py",
   "mimetype": "text/x-python",
   "name": "python",
   "nbconvert_exporter": "python",
   "pygments_lexer": "ipython3",
   "version": "3.12.10"
  }
 },
 "nbformat": 4,
 "nbformat_minor": 5
}
