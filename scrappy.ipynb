{
 "cells": [
  {
   "cell_type": "markdown",
   "id": "e895bc3d",
   "metadata": {},
   "source": [
    "## SCRAPPY\n",
    "- Using Langchain build an Agentic AI\n",
    "- Scrapes top e-commerce websites for desired products"
   ]
  }
 ],
 "metadata": {
  "language_info": {
   "name": "python"
  }
 },
 "nbformat": 4,
 "nbformat_minor": 5
}
